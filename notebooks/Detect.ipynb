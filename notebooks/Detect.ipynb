{
 "cells": [
  {
   "cell_type": "code",
   "execution_count": null,
   "metadata": {},
   "outputs": [],
   "source": [
    "import sys\n",
    "sys.path.insert(0, '..')"
   ]
  },
  {
   "cell_type": "code",
   "execution_count": null,
   "metadata": {},
   "outputs": [],
   "source": [
    "from mrcnn.utils import Dataset\n",
    "from dataset import KangarooDataset, AnalogMeterDataset\n",
    "from mrcnn.config import Config\n",
    "from mrcnn.model import mold_image, MaskRCNN\n",
    "from numpy import ndarray\n",
    "import numpy as np\n",
    "from typing import Dict\n",
    "import matplotlib.pyplot as plt\n",
    "from matplotlib.patches import Rectangle\n",
    "from config import Config, PredictionConfig\n",
    "import os\n",
    "import skimage"
   ]
  },
  {
   "cell_type": "code",
   "execution_count": null,
   "metadata": {},
   "outputs": [],
   "source": [
    "os.environ['TF_FORCE_GPU_ALLOW_GROWTH'] = 'true'"
   ]
  },
  {
   "cell_type": "code",
   "execution_count": null,
   "metadata": {},
   "outputs": [],
   "source": [
    "def plot_predicted(image_path: str, cfg: Config, model: MaskRCNN):\n",
    "    image = skimage.io.imread(image_path)\n",
    "    scaled_image: ndarray = mold_image(image, cfg)\n",
    "    # convert image into one sample\n",
    "    sample: ndarray = np.expand_dims(scaled_image, 0)\n",
    "    # make prediction\n",
    "    yhat: Dict = model.detect(sample, verbose=0)[0]\n",
    "    print(yhat['rois'].shape)\n",
    "    print()\n",
    "    # plot raw pixel data\n",
    "#     plt.imshow(image)\n",
    "#     plt.title('Actual')\n",
    "#     ax = plt.gca()\n",
    "#     # plot each box\n",
    "#     for box in yhat['rois']:\n",
    "#         # get coordinates\n",
    "#         y1, x1, y2, x2 = box\n",
    "#         # calculate width and height of the box\n",
    "#         width, height = x2 - x1, y2 - y1\n",
    "#         # create the shape\n",
    "#         rect = Rectangle((x1, y1), width, height, fill=False, color='red')\n",
    "#         # draw the box\n",
    "#         ax.add_patch(rect)\n",
    "#     # show the figure\n",
    "#     plt.show()"
   ]
  },
  {
   "cell_type": "code",
   "execution_count": null,
   "metadata": {},
   "outputs": [],
   "source": [
    "path: str = r'C:\\Users\\Lorenzo\\PycharmProjects\\ocr\\image\\MeterDataset\\Meter-Integration'"
   ]
  },
  {
   "cell_type": "code",
   "execution_count": null,
   "metadata": {},
   "outputs": [],
   "source": [
    "cfg = PredictionConfig()\n",
    "# define the model\n",
    "model = MaskRCNN(mode='inference', model_dir='./', config=cfg)"
   ]
  },
  {
   "cell_type": "code",
   "execution_count": null,
   "metadata": {},
   "outputs": [],
   "source": [
    "for im in os.listdir(path):\n",
    "    if im.endswith('.jpg'):\n",
    "        image_path = os.path.join(path, im)\n",
    "        plot_predicted(image_path, cfg, model)"
   ]
  },
  {
   "cell_type": "code",
   "execution_count": null,
   "metadata": {},
   "outputs": [],
   "source": []
  }
 ],
 "metadata": {
  "kernelspec": {
   "display_name": "ObjectDetection_AMR",
   "language": "python",
   "name": "objectdetection_amr"
  },
  "language_info": {
   "codemirror_mode": {
    "name": "ipython",
    "version": 3
   },
   "file_extension": ".py",
   "mimetype": "text/x-python",
   "name": "python",
   "nbconvert_exporter": "python",
   "pygments_lexer": "ipython3",
   "version": "3.6.8"
  }
 },
 "nbformat": 4,
 "nbformat_minor": 4
}
